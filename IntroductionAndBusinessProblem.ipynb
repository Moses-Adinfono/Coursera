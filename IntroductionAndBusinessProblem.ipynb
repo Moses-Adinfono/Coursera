{
 "cells": [
  {
   "cell_type": "markdown",
   "metadata": {},
   "source": [
    "# LOCATING AN AFRICAN RESTAURANT IN TORONTO\n",
    "_BATTLE OF THE NEIGHBOURHOODS: An Analysis of Neighbourhoods in the city of Toronto using Machine Learning._"
   ]
  },
  {
   "cell_type": "markdown",
   "metadata": {},
   "source": [
    "## Introduction"
   ]
  },
  {
   "cell_type": "markdown",
   "metadata": {},
   "source": [
    "### Background\n",
    "Have you ever relocated to a new country and wanted a taste of the meal back home? A number of people, after arriving in a new country, look for where they can get meals close to what they experience back home (the country they came from). This, among many other reasons, gave birth to the establishment of restaurants like: Chinese Restaurants, Italian restaurants and the likes.\n",
    "\n",
    "Canada is one of the leading countries in policies that favor immigration. When immigrants arrive in Canada, the prime city of choice is usually Toronto.\n",
    "\n",
    "I have a few friends in North York, Toronto. They tell me time and again that they wish they had a restaurant that would serve them some African dishes."
   ]
  },
  {
   "cell_type": "markdown",
   "metadata": {},
   "source": [
    "### Problem Statement\n",
    "This project aims to find the best neighborhood in North York Toronto to setup a New African Restaurant for immigrants from Africa and others who want to have a taste of delicious African delicacies."
   ]
  },
  {
   "cell_type": "markdown",
   "metadata": {},
   "source": [
    "#### Link to complete project:\n",
    "https://github.com/Moses-Adinfono/Coursera/blob/main/LocatingAnAfricanRestaurantInToronto.ipynb"
   ]
  },
  {
   "cell_type": "code",
   "execution_count": null,
   "metadata": {},
   "outputs": [],
   "source": []
  }
 ],
 "metadata": {
  "kernelspec": {
   "display_name": "Python",
   "language": "python",
   "name": "conda-env-python-py"
  },
  "language_info": {
   "codemirror_mode": {
    "name": "ipython",
    "version": 3
   },
   "file_extension": ".py",
   "mimetype": "text/x-python",
   "name": "python",
   "nbconvert_exporter": "python",
   "pygments_lexer": "ipython3",
   "version": "3.6.13"
  }
 },
 "nbformat": 4,
 "nbformat_minor": 4
}
